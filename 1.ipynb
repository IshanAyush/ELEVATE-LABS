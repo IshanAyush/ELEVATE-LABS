{
 "cells": [
  {
   "cell_type": "code",
   "execution_count": 1,
   "metadata": {},
   "outputs": [],
   "source": [
    "import pandas as pd\n",
    "\n",
    "# Step 1: Load the dataset\n",
    "df = pd.read_csv(\"Mall_Customers.csv\")\n",
    "\n",
    "# Step 2: Remove duplicate rows (if any)\n",
    "df = df.drop_duplicates()\n",
    "\n",
    "# Step 3: Standardize 'Gender' column values (lowercase, remove whitespace)\n",
    "df['Gender'] = df['Gender'].str.strip().str.lower()\n",
    "\n",
    "# Step 4: Rename columns to be lowercase with underscores instead of spaces\n",
    "df.columns = df.columns.str.strip().str.lower().str.replace(' ', '_')\n",
    "\n",
    "# Step 5: Save the cleaned dataset\n",
    "df.to_csv(\"Mall_Customers_Cleaned.csv\", index=False)\n"
   ]
  }
 ],
 "metadata": {
  "kernelspec": {
   "display_name": "base",
   "language": "python",
   "name": "python3"
  },
  "language_info": {
   "name": "python",
   "version": "3.12.4"
  }
 },
 "nbformat": 4,
 "nbformat_minor": 2
}
